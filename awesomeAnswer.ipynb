{
 "cells": [
  {
   "cell_type": "code",
   "execution_count": 29,
   "metadata": {},
   "outputs": [],
   "source": [
    "import re\n",
    "from toolz import *"
   ]
  },
  {
   "cell_type": "code",
   "execution_count": 30,
   "metadata": {},
   "outputs": [],
   "source": [
    "def createEmpty(n, by = \"\") :     \n",
    "        return [[by for i in range(n)] for i in range(n)]\n",
    "    \n",
    "def myMap(f,xs):    \n",
    "    return [*map(f,xs)]\n",
    "\n",
    "def joiner(xs, by = \"\"):\n",
    "    return by.join(xs)\n",
    "    \n",
    "def toTxt(ls):\n",
    "    \n",
    "    intraLinejoiner = partial(joiner, by = \"\")\n",
    "    interLinejoiner = partial(joiner, by = \"\\n\")\n",
    "    \n",
    "    txt = interLinejoiner(myMap(intraLinejoiner,ls))\n",
    "    print(txt)\n",
    "    \n",
    "    \n",
    "def fillLBWith(ls, by = \"*\"):\n",
    "    for idx, xs in enumerate(ls):\n",
    "        ls[idx][:idx + 1] = by * (idx + 1)        \n",
    "    return ls\n",
    "\n",
    "def transpose(ls):\n",
    "    return myMap(list, zip(*ls))\n",
    "\n",
    "def flipH(ls):\n",
    "    return myMap(lambda xs : xs[::-1],ls)\n",
    "\n",
    "def flipV(x):\n",
    "    return compose(flipH,transpose,flipH,transpose,flipH)(x)\n",
    "\n",
    "def ifElse(condition,exec1,exec2):\n",
    "    if condition : \n",
    "        return exec1\n",
    "    else :\n",
    "        return exec2\n",
    "\n",
    "@curry    \n",
    "def repeat(n,x):\n",
    "    return [x] * n\n",
    "\n",
    "def fillDiagWith(ls,by = \"*\"):\n",
    "    \n",
    "    condition = len(by) == 1\n",
    "    \n",
    "    by = ifElse(\n",
    "            condition,\n",
    "            repeat(len(ls))(by),\n",
    "            by)\n",
    "    \n",
    "    for idx, xs in enumerate(ls):\n",
    "        ls[idx][idx] = by[idx]\n",
    "    return ls\n",
    "\n",
    "def over(ls1, ls2, direction = \"\"):\n",
    "    \n",
    "    def rmMiddle(xs) :\n",
    "        xs.pop(len(xs)//2)\n",
    "        return xs\n",
    "    \n",
    "    if direction == \"v\" :\n",
    "        return rmMiddle(ls1 + ls2)\n",
    "    elif direction == \">\":\n",
    "        return [rmMiddle(xs1 + xs2) for xs1, xs2 in zip(ls1,ls2)]\n",
    "\n",
    "def completeMorror(x):\n",
    "    return \\\n",
    "        over(over(x,flipH(x),\">\"),\n",
    "            flipV(over(x,flipH(x),\">\")),\n",
    "            \"v\")"
   ]
  },
  {
   "cell_type": "code",
   "execution_count": 31,
   "metadata": {},
   "outputs": [
    {
     "name": "stdout",
     "output_type": "stream",
     "text": [
      "*\n",
      "**\n",
      "***\n",
      "****\n",
      "*****\n"
     ]
    }
   ],
   "source": [
    "empty = createEmpty(5, by = \"\")\n",
    "solveQ1 = partial(fillLBWith, by = \"*\")\n",
    "ansQ1 = solveQ1(empty)\n",
    "toTxt(ansQ1)"
   ]
  },
  {
   "cell_type": "code",
   "execution_count": 28,
   "metadata": {},
   "outputs": [
    {
     "name": "stdout",
     "output_type": "stream",
     "text": [
      "*****\n",
      "****\n",
      "***\n",
      "**\n",
      "*\n"
     ]
    }
   ],
   "source": [
    "solveQ2 = flipV\n",
    "empty = createEmpty(5, by = \"\")\n",
    "ansQ2 = compose(solveQ2\n",
    "                ,solveQ1)(empty)\n",
    "\n",
    "toTxt(ansQ2)"
   ]
  },
  {
   "cell_type": "code",
   "execution_count": 12,
   "metadata": {},
   "outputs": [
    {
     "name": "stdout",
     "output_type": "stream",
     "text": [
      "*****0\n",
      "****00\n",
      "***000\n",
      "**0000\n",
      "*00000\n"
     ]
    }
   ],
   "source": [
    "empty = createEmpty(6, by = \"0\")\n",
    "solveQ3 = \\\n",
    "compose(lambda xxs : xxs[1:],\n",
    "                solveQ2,\n",
    "                solveQ1)\n",
    "ansQ3 = solveQ3(empty)\n",
    "toTxt(ansQ3)"
   ]
  },
  {
   "cell_type": "code",
   "execution_count": 13,
   "metadata": {},
   "outputs": [
    {
     "name": "stdout",
     "output_type": "stream",
     "text": [
      "*****1\n",
      "****2*\n",
      "***3**\n",
      "**4***\n",
      "*5****\n",
      "6*****\n"
     ]
    }
   ],
   "source": [
    "empty = createEmpty(6, by = \"*\")\n",
    "solveQ4 = compose(flipH,partial(fillDiagWith,by = \"123456\"))\n",
    "ansQ4 = solveQ4(empty)\n",
    "toTxt(ansQ4)"
   ]
  },
  {
   "cell_type": "code",
   "execution_count": 14,
   "metadata": {},
   "outputs": [
    {
     "name": "stdout",
     "output_type": "stream",
     "text": [
      "*.......*\n",
      "**.....**\n",
      "***...***\n",
      "****.****\n",
      "*********\n",
      "****.****\n",
      "***...***\n",
      "**.....**\n",
      "*.......*\n"
     ]
    }
   ],
   "source": [
    "empty = createEmpty(5, by = \".\")\n",
    "solveQ1 = partial(fillLBWith, by = \"*\")\n",
    "ansQ1 = solveQ1(empty)\n",
    "toTxt(completeMorror(ansQ1))"
   ]
  },
  {
   "cell_type": "code",
   "execution_count": 15,
   "metadata": {},
   "outputs": [
    {
     "name": "stdout",
     "output_type": "stream",
     "text": [
      "*.......*\n",
      ".*.....*.\n",
      "..*...*..\n",
      "...*.*...\n",
      "....*....\n",
      "...*.*...\n",
      "..*...*..\n",
      ".*.....*.\n",
      "*.......*\n"
     ]
    }
   ],
   "source": [
    "empty = createEmpty(5, by = \".\")\n",
    "solveQ1 = partial(fillDiagWith, by = \"*\")\n",
    "ansQ1 = solveQ1(empty)\n",
    "toTxt(completeMorror(ansQ1))"
   ]
  },
  {
   "cell_type": "code",
   "execution_count": 16,
   "metadata": {},
   "outputs": [
    {
     "name": "stdout",
     "output_type": "stream",
     "text": [
      "....*....\n",
      "...***...\n",
      "..*****..\n",
      ".*******.\n",
      "*********\n",
      ".*******.\n",
      "..*****..\n",
      "...***...\n",
      "....*....\n"
     ]
    }
   ],
   "source": [
    "empty = createEmpty(5, by = \".\")\n",
    "solveQ1 = compose(flipH,partial(fillLBWith, by = \"*\"))\n",
    "ansQ1 = solveQ1(empty)\n",
    "toTxt(completeMorror(ansQ1))"
   ]
  },
  {
   "cell_type": "code",
   "execution_count": 18,
   "metadata": {},
   "outputs": [
    {
     "name": "stdout",
     "output_type": "stream",
     "text": [
      "         *         \n",
      "        ***        \n",
      "       *****       \n",
      "      *******      \n",
      "     *********     \n",
      "    ***********    \n",
      "   *************   \n",
      "  ***************  \n",
      " ***************** \n",
      "*******************\n",
      " ***************** \n",
      "  ***************  \n",
      "   *************   \n",
      "    ***********    \n",
      "     *********     \n",
      "      *******      \n",
      "       *****       \n",
      "        ***        \n",
      "         *         \n"
     ]
    }
   ],
   "source": [
    "empty = createEmpty(10, by = \" \")\n",
    "solveQ1 = compose(flipH,partial(fillLBWith, by = \"*\"))\n",
    "ansQ1 = solveQ1(empty)\n",
    "toTxt(completeMorror(ansQ1))"
   ]
  },
  {
   "cell_type": "code",
   "execution_count": 19,
   "metadata": {},
   "outputs": [
    {
     "name": "stdout",
     "output_type": "stream",
     "text": [
      "         *                 *         \n",
      "        ***               ***        \n",
      "       *****             *****       \n",
      "      *******           *******      \n",
      "     *********         *********     \n",
      "    ***********       ***********    \n",
      "   *************     *************   \n",
      "  ***************   ***************  \n",
      " ***************** ***************** \n",
      "*************************************\n",
      " ***************** ***************** \n",
      "  ***************   ***************  \n",
      "   *************     *************   \n",
      "    ***********       ***********    \n",
      "     *********         *********     \n",
      "      *******           *******      \n",
      "       *****             *****       \n",
      "        ***               ***        \n",
      "         *                 *         \n",
      "        ***               ***        \n",
      "       *****             *****       \n",
      "      *******           *******      \n",
      "     *********         *********     \n",
      "    ***********       ***********    \n",
      "   *************     *************   \n",
      "  ***************   ***************  \n",
      " ***************** ***************** \n",
      "*************************************\n",
      " ***************** ***************** \n",
      "  ***************   ***************  \n",
      "   *************     *************   \n",
      "    ***********       ***********    \n",
      "     *********         *********     \n",
      "      *******           *******      \n",
      "       *****             *****       \n",
      "        ***               ***        \n",
      "         *                 *         \n"
     ]
    }
   ],
   "source": [
    "empty = createEmpty(10, by = \" \")\n",
    "solveQ1 = compose(flipH,partial(fillLBWith, by = \"*\"))\n",
    "ansQ1 = solveQ1(empty)\n",
    "toTxt(completeMorror(completeMorror(ansQ1)))"
   ]
  },
  {
   "cell_type": "code",
   "execution_count": 25,
   "metadata": {},
   "outputs": [
    {
     "name": "stdout",
     "output_type": "stream",
     "text": [
      "    *       *       *       *       *       *       *       *    \n",
      "   * *     * *     * *     * *     * *     * *     * *     * *   \n",
      "  *   *   *   *   *   *   *   *   *   *   *   *   *   *   *   *  \n",
      " *     * *     * *     * *     * *     * *     * *     * *     * \n",
      "*       *       *       *       *       *       *       *       *\n",
      " *     * *     * *     * *     * *     * *     * *     * *     * \n",
      "  *   *   *   *   *   *   *   *   *   *   *   *   *   *   *   *  \n",
      "   * *     * *     * *     * *     * *     * *     * *     * *   \n",
      "    *       *       *       *       *       *       *       *    \n",
      "   * *     * *     * *     * *     * *     * *     * *     * *   \n",
      "  *   *   *   *   *   *   *   *   *   *   *   *   *   *   *   *  \n",
      " *     * *     * *     * *     * *     * *     * *     * *     * \n",
      "*       *       *       *       *       *       *       *       *\n",
      " *     * *     * *     * *     * *     * *     * *     * *     * \n",
      "  *   *   *   *   *   *   *   *   *   *   *   *   *   *   *   *  \n",
      "   * *     * *     * *     * *     * *     * *     * *     * *   \n",
      "    *       *       *       *       *       *       *       *    \n",
      "   * *     * *     * *     * *     * *     * *     * *     * *   \n",
      "  *   *   *   *   *   *   *   *   *   *   *   *   *   *   *   *  \n",
      " *     * *     * *     * *     * *     * *     * *     * *     * \n",
      "*       *       *       *       *       *       *       *       *\n",
      " *     * *     * *     * *     * *     * *     * *     * *     * \n",
      "  *   *   *   *   *   *   *   *   *   *   *   *   *   *   *   *  \n",
      "   * *     * *     * *     * *     * *     * *     * *     * *   \n",
      "    *       *       *       *       *       *       *       *    \n",
      "   * *     * *     * *     * *     * *     * *     * *     * *   \n",
      "  *   *   *   *   *   *   *   *   *   *   *   *   *   *   *   *  \n",
      " *     * *     * *     * *     * *     * *     * *     * *     * \n",
      "*       *       *       *       *       *       *       *       *\n",
      " *     * *     * *     * *     * *     * *     * *     * *     * \n",
      "  *   *   *   *   *   *   *   *   *   *   *   *   *   *   *   *  \n",
      "   * *     * *     * *     * *     * *     * *     * *     * *   \n",
      "    *       *       *       *       *       *       *       *    \n",
      "   * *     * *     * *     * *     * *     * *     * *     * *   \n",
      "  *   *   *   *   *   *   *   *   *   *   *   *   *   *   *   *  \n",
      " *     * *     * *     * *     * *     * *     * *     * *     * \n",
      "*       *       *       *       *       *       *       *       *\n",
      " *     * *     * *     * *     * *     * *     * *     * *     * \n",
      "  *   *   *   *   *   *   *   *   *   *   *   *   *   *   *   *  \n",
      "   * *     * *     * *     * *     * *     * *     * *     * *   \n",
      "    *       *       *       *       *       *       *       *    \n",
      "   * *     * *     * *     * *     * *     * *     * *     * *   \n",
      "  *   *   *   *   *   *   *   *   *   *   *   *   *   *   *   *  \n",
      " *     * *     * *     * *     * *     * *     * *     * *     * \n",
      "*       *       *       *       *       *       *       *       *\n",
      " *     * *     * *     * *     * *     * *     * *     * *     * \n",
      "  *   *   *   *   *   *   *   *   *   *   *   *   *   *   *   *  \n",
      "   * *     * *     * *     * *     * *     * *     * *     * *   \n",
      "    *       *       *       *       *       *       *       *    \n",
      "   * *     * *     * *     * *     * *     * *     * *     * *   \n",
      "  *   *   *   *   *   *   *   *   *   *   *   *   *   *   *   *  \n",
      " *     * *     * *     * *     * *     * *     * *     * *     * \n",
      "*       *       *       *       *       *       *       *       *\n",
      " *     * *     * *     * *     * *     * *     * *     * *     * \n",
      "  *   *   *   *   *   *   *   *   *   *   *   *   *   *   *   *  \n",
      "   * *     * *     * *     * *     * *     * *     * *     * *   \n",
      "    *       *       *       *       *       *       *       *    \n",
      "   * *     * *     * *     * *     * *     * *     * *     * *   \n",
      "  *   *   *   *   *   *   *   *   *   *   *   *   *   *   *   *  \n",
      " *     * *     * *     * *     * *     * *     * *     * *     * \n",
      "*       *       *       *       *       *       *       *       *\n",
      " *     * *     * *     * *     * *     * *     * *     * *     * \n",
      "  *   *   *   *   *   *   *   *   *   *   *   *   *   *   *   *  \n",
      "   * *     * *     * *     * *     * *     * *     * *     * *   \n",
      "    *       *       *       *       *       *       *       *    \n"
     ]
    }
   ],
   "source": [
    "empty = createEmpty(5, by = \" \")\n",
    "solveQ1 = compose(flipH,partial(fillDiagWith, by = \"*\"))\n",
    "ansQ1 = solveQ1(empty)\n",
    "toTxt(compose(completeMorror,completeMorror,completeMorror,completeMorror)(ansQ1))"
   ]
  }
 ],
 "metadata": {
  "kernelspec": {
   "display_name": "Python 3",
   "language": "python",
   "name": "python3"
  },
  "language_info": {
   "codemirror_mode": {
    "name": "ipython",
    "version": 3
   },
   "file_extension": ".py",
   "mimetype": "text/x-python",
   "name": "python",
   "nbconvert_exporter": "python",
   "pygments_lexer": "ipython3",
   "version": "3.7.4"
  }
 },
 "nbformat": 4,
 "nbformat_minor": 4
}
